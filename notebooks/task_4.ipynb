{
 "cells": [
  {
   "cell_type": "code",
   "execution_count": 1,
   "metadata": {},
   "outputs": [],
   "source": [
    "import sys\n",
    "import os\n",
    "sys.path.append(os.path.abspath('../scripts'))\n",
    "from load_data import load_data_from_postgres, load_data_using_sqlalchemy\n",
    "from prepare_data import clean_data"
   ]
  },
  {
   "cell_type": "code",
   "execution_count": 2,
   "metadata": {},
   "outputs": [
    {
     "name": "stdout",
     "output_type": "stream",
     "text": [
      "Successfully loaded the data\n"
     ]
    },
    {
     "data": {
      "text/html": [
       "<div>\n",
       "<style scoped>\n",
       "    .dataframe tbody tr th:only-of-type {\n",
       "        vertical-align: middle;\n",
       "    }\n",
       "\n",
       "    .dataframe tbody tr th {\n",
       "        vertical-align: top;\n",
       "    }\n",
       "\n",
       "    .dataframe thead th {\n",
       "        text-align: right;\n",
       "    }\n",
       "</style>\n",
       "<table border=\"1\" class=\"dataframe\">\n",
       "  <thead>\n",
       "    <tr style=\"text-align: right;\">\n",
       "      <th></th>\n",
       "      <th>Bearer Id</th>\n",
       "      <th>Start</th>\n",
       "      <th>Start ms</th>\n",
       "      <th>End</th>\n",
       "      <th>End ms</th>\n",
       "      <th>Dur. (ms)</th>\n",
       "      <th>IMSI</th>\n",
       "      <th>MSISDN/Number</th>\n",
       "      <th>IMEI</th>\n",
       "      <th>Last Location Name</th>\n",
       "      <th>...</th>\n",
       "      <th>Youtube DL (Bytes)</th>\n",
       "      <th>Youtube UL (Bytes)</th>\n",
       "      <th>Netflix DL (Bytes)</th>\n",
       "      <th>Netflix UL (Bytes)</th>\n",
       "      <th>Gaming DL (Bytes)</th>\n",
       "      <th>Gaming UL (Bytes)</th>\n",
       "      <th>Other DL (Bytes)</th>\n",
       "      <th>Other UL (Bytes)</th>\n",
       "      <th>Total UL (Bytes)</th>\n",
       "      <th>Total DL (Bytes)</th>\n",
       "    </tr>\n",
       "  </thead>\n",
       "  <tbody>\n",
       "    <tr>\n",
       "      <th>0</th>\n",
       "      <td>1.311448e+19</td>\n",
       "      <td>2019-04-04 12:01:00</td>\n",
       "      <td>770.0</td>\n",
       "      <td>2019-04-25 14:35:00</td>\n",
       "      <td>662.0</td>\n",
       "      <td>92261.223185</td>\n",
       "      <td>2.082014e+14</td>\n",
       "      <td>3.366496e+10</td>\n",
       "      <td>3.552121e+13</td>\n",
       "      <td>9.16456699548519E+015</td>\n",
       "      <td>...</td>\n",
       "      <td>15854611.0</td>\n",
       "      <td>2501332.0</td>\n",
       "      <td>8198936.0</td>\n",
       "      <td>9656251.0</td>\n",
       "      <td>278082303.0</td>\n",
       "      <td>14344150.0</td>\n",
       "      <td>171744450.0</td>\n",
       "      <td>8814393.0</td>\n",
       "      <td>36749741.0</td>\n",
       "      <td>308879636.0</td>\n",
       "    </tr>\n",
       "    <tr>\n",
       "      <th>1</th>\n",
       "      <td>1.311448e+19</td>\n",
       "      <td>2019-04-09 13:04:00</td>\n",
       "      <td>235.0</td>\n",
       "      <td>2019-04-25 08:15:00</td>\n",
       "      <td>606.0</td>\n",
       "      <td>92261.223185</td>\n",
       "      <td>2.082019e+14</td>\n",
       "      <td>3.368185e+10</td>\n",
       "      <td>3.579401e+13</td>\n",
       "      <td>L77566A</td>\n",
       "      <td>...</td>\n",
       "      <td>20247395.0</td>\n",
       "      <td>19111729.0</td>\n",
       "      <td>18338413.0</td>\n",
       "      <td>17227132.0</td>\n",
       "      <td>608750074.0</td>\n",
       "      <td>1170709.0</td>\n",
       "      <td>526904238.0</td>\n",
       "      <td>15055145.0</td>\n",
       "      <td>53800391.0</td>\n",
       "      <td>653384965.0</td>\n",
       "    </tr>\n",
       "    <tr>\n",
       "      <th>2</th>\n",
       "      <td>1.311448e+19</td>\n",
       "      <td>2019-04-09 17:42:00</td>\n",
       "      <td>1.0</td>\n",
       "      <td>2019-04-25 11:58:00</td>\n",
       "      <td>652.0</td>\n",
       "      <td>92261.223185</td>\n",
       "      <td>2.082015e+14</td>\n",
       "      <td>3.365762e+10</td>\n",
       "      <td>3.528151e+13</td>\n",
       "      <td>D42335A</td>\n",
       "      <td>...</td>\n",
       "      <td>19725661.0</td>\n",
       "      <td>14699576.0</td>\n",
       "      <td>17587794.0</td>\n",
       "      <td>6163408.0</td>\n",
       "      <td>229584621.0</td>\n",
       "      <td>395630.0</td>\n",
       "      <td>410692588.0</td>\n",
       "      <td>4215763.0</td>\n",
       "      <td>27883638.0</td>\n",
       "      <td>279807335.0</td>\n",
       "    </tr>\n",
       "    <tr>\n",
       "      <th>3</th>\n",
       "      <td>1.311448e+19</td>\n",
       "      <td>2019-04-10 00:31:00</td>\n",
       "      <td>486.0</td>\n",
       "      <td>2019-04-25 07:36:00</td>\n",
       "      <td>171.0</td>\n",
       "      <td>92261.223185</td>\n",
       "      <td>2.082014e+14</td>\n",
       "      <td>3.365762e+10</td>\n",
       "      <td>3.535661e+13</td>\n",
       "      <td>T21824A</td>\n",
       "      <td>...</td>\n",
       "      <td>21388122.0</td>\n",
       "      <td>15146643.0</td>\n",
       "      <td>13994646.0</td>\n",
       "      <td>1097942.0</td>\n",
       "      <td>799538153.0</td>\n",
       "      <td>10849722.0</td>\n",
       "      <td>749039933.0</td>\n",
       "      <td>12797283.0</td>\n",
       "      <td>43324218.0</td>\n",
       "      <td>846028530.0</td>\n",
       "    </tr>\n",
       "    <tr>\n",
       "      <th>4</th>\n",
       "      <td>1.311448e+19</td>\n",
       "      <td>2019-04-12 20:10:00</td>\n",
       "      <td>565.0</td>\n",
       "      <td>2019-04-25 10:40:00</td>\n",
       "      <td>954.0</td>\n",
       "      <td>92261.223185</td>\n",
       "      <td>2.082014e+14</td>\n",
       "      <td>3.369980e+10</td>\n",
       "      <td>3.540701e+13</td>\n",
       "      <td>D88865A</td>\n",
       "      <td>...</td>\n",
       "      <td>15259380.0</td>\n",
       "      <td>18962873.0</td>\n",
       "      <td>17124581.0</td>\n",
       "      <td>415218.0</td>\n",
       "      <td>527707248.0</td>\n",
       "      <td>3529801.0</td>\n",
       "      <td>550709500.0</td>\n",
       "      <td>13910322.0</td>\n",
       "      <td>38542814.0</td>\n",
       "      <td>569138589.0</td>\n",
       "    </tr>\n",
       "  </tbody>\n",
       "</table>\n",
       "<p>5 rows × 55 columns</p>\n",
       "</div>"
      ],
      "text/plain": [
       "      Bearer Id               Start  Start ms                 End  End ms  \\\n",
       "0  1.311448e+19 2019-04-04 12:01:00     770.0 2019-04-25 14:35:00   662.0   \n",
       "1  1.311448e+19 2019-04-09 13:04:00     235.0 2019-04-25 08:15:00   606.0   \n",
       "2  1.311448e+19 2019-04-09 17:42:00       1.0 2019-04-25 11:58:00   652.0   \n",
       "3  1.311448e+19 2019-04-10 00:31:00     486.0 2019-04-25 07:36:00   171.0   \n",
       "4  1.311448e+19 2019-04-12 20:10:00     565.0 2019-04-25 10:40:00   954.0   \n",
       "\n",
       "      Dur. (ms)          IMSI  MSISDN/Number          IMEI  \\\n",
       "0  92261.223185  2.082014e+14   3.366496e+10  3.552121e+13   \n",
       "1  92261.223185  2.082019e+14   3.368185e+10  3.579401e+13   \n",
       "2  92261.223185  2.082015e+14   3.365762e+10  3.528151e+13   \n",
       "3  92261.223185  2.082014e+14   3.365762e+10  3.535661e+13   \n",
       "4  92261.223185  2.082014e+14   3.369980e+10  3.540701e+13   \n",
       "\n",
       "      Last Location Name  ...  Youtube DL (Bytes)  Youtube UL (Bytes)  \\\n",
       "0  9.16456699548519E+015  ...          15854611.0           2501332.0   \n",
       "1                L77566A  ...          20247395.0          19111729.0   \n",
       "2                D42335A  ...          19725661.0          14699576.0   \n",
       "3                T21824A  ...          21388122.0          15146643.0   \n",
       "4                D88865A  ...          15259380.0          18962873.0   \n",
       "\n",
       "   Netflix DL (Bytes)  Netflix UL (Bytes)  Gaming DL (Bytes)  \\\n",
       "0           8198936.0           9656251.0        278082303.0   \n",
       "1          18338413.0          17227132.0        608750074.0   \n",
       "2          17587794.0           6163408.0        229584621.0   \n",
       "3          13994646.0           1097942.0        799538153.0   \n",
       "4          17124581.0            415218.0        527707248.0   \n",
       "\n",
       "   Gaming UL (Bytes)  Other DL (Bytes)  Other UL (Bytes)  Total UL (Bytes)  \\\n",
       "0         14344150.0       171744450.0         8814393.0        36749741.0   \n",
       "1          1170709.0       526904238.0        15055145.0        53800391.0   \n",
       "2           395630.0       410692588.0         4215763.0        27883638.0   \n",
       "3         10849722.0       749039933.0        12797283.0        43324218.0   \n",
       "4          3529801.0       550709500.0        13910322.0        38542814.0   \n",
       "\n",
       "   Total DL (Bytes)  \n",
       "0       308879636.0  \n",
       "1       653384965.0  \n",
       "2       279807335.0  \n",
       "3       846028530.0  \n",
       "4       569138589.0  \n",
       "\n",
       "[5 rows x 55 columns]"
      ]
     },
     "metadata": {},
     "output_type": "display_data"
    }
   ],
   "source": [
    "# Run the query\n",
    "query = \"SELECT * FROM xdr_data;\"  # Replace with actual table name\n",
    "df = load_data_using_sqlalchemy(query)\n",
    "df_cleaned = clean_data(df)\n",
    "if df is not None:\n",
    "    print(\"Successfully loaded the data\")\n",
    "    display(df_cleaned.head())\n",
    "else:\n",
    "    print(\"Failed to load data.\")"
   ]
  },
  {
   "cell_type": "markdown",
   "metadata": {},
   "source": [
    "Task 4: Satisfaction Analysis"
   ]
  },
  {
   "cell_type": "markdown",
   "metadata": {},
   "source": [
    "Task 4.1: Engagement and Experience Score Calculation\n"
   ]
  },
  {
   "cell_type": "code",
   "execution_count": 3,
   "metadata": {},
   "outputs": [],
   "source": [
    "from sklearn.preprocessing import StandardScaler\n",
    "from sklearn.cluster import KMeans\n",
    "import numpy as np\n",
    "\n",
    "# Select engagement and experience features\n",
    "engagement_features = ['Dur. (ms)', 'Total DL (Bytes)', 'Total UL (Bytes)', 'Social Media DL (Bytes)', 'Youtube DL (Bytes)', 'Netflix DL (Bytes)']\n",
    "experience_features = ['Avg RTT DL (ms)', 'Avg RTT UL (ms)', 'Avg Bearer TP DL (kbps)', 'Avg Bearer TP UL (kbps)', 'TCP DL Retrans. Vol (Bytes)', 'TCP UL Retrans. Vol (Bytes)']\n",
    "\n",
    "scaler = StandardScaler()\n",
    "scaled_engagement = scaler.fit_transform(df_cleaned[engagement_features])\n",
    "scaled_experience = scaler.fit_transform(df_cleaned[experience_features])\n",
    "\n",
    "\n",
    "kmeans_engagement = KMeans(n_clusters=2, random_state=42)\n",
    "df_cleaned['Engagement Cluster'] = kmeans_engagement.fit_predict(scaled_engagement)\n",
    "\n",
    "\n",
    "kmeans_experience = KMeans(n_clusters=2, random_state=42)\n",
    "df_cleaned['Experience Cluster'] = kmeans_experience.fit_predict(scaled_experience)\n",
    "\n",
    "\n",
    "engagement_centers = kmeans_engagement.cluster_centers_\n",
    "experience_centers = kmeans_experience.cluster_centers_\n",
    "\n",
    "less_engaged_cluster = np.argmin(np.linalg.norm(engagement_centers, axis=1))\n",
    "worst_experience_cluster = np.argmin(np.linalg.norm(experience_centers, axis=1))\n"
   ]
  },
  {
   "cell_type": "code",
   "execution_count": 4,
   "metadata": {},
   "outputs": [],
   "source": [
    "from scipy.spatial.distance import cdist\n",
    "\n",
    "df_cleaned['Engagement Score'] = cdist(scaled_engagement, [engagement_centers[less_engaged_cluster]], 'euclidean')\n",
    "\n",
    "\n",
    "df_cleaned['Experience Score'] = cdist(scaled_experience, [experience_centers[worst_experience_cluster]], 'euclidean')\n"
   ]
  },
  {
   "cell_type": "markdown",
   "metadata": {},
   "source": [
    "Task 4.2: Calculate Satisfaction Score"
   ]
  },
  {
   "cell_type": "code",
   "execution_count": 5,
   "metadata": {},
   "outputs": [
    {
     "name": "stdout",
     "output_type": "stream",
     "text": [
      "                IMSI  Satisfaction Score\n",
      "67741   2.082017e+14            5.342683\n",
      "2582    2.082018e+14            5.242049\n",
      "91027   2.082019e+14            5.234689\n",
      "40036   2.082010e+14            5.220566\n",
      "75234   2.082019e+14            5.181855\n",
      "118563  2.082010e+14            5.167719\n",
      "41302   2.082014e+14            5.164840\n",
      "47620   2.082010e+14            5.154923\n",
      "115800  2.082018e+14            5.139523\n",
      "19228   2.082010e+14            5.133082\n"
     ]
    }
   ],
   "source": [
    "\n",
    "df_cleaned['Satisfaction Score'] = (df_cleaned['Engagement Score'] + df_cleaned['Experience Score']) / 2\n",
    "\n",
    "\n",
    "top_10_satisfied_customers = df_cleaned.nlargest(10, 'Satisfaction Score')\n",
    "print(top_10_satisfied_customers[['IMSI', 'Satisfaction Score']])\n"
   ]
  },
  {
   "cell_type": "markdown",
   "metadata": {},
   "source": [
    "Task 4.3: Build a Regression Model to Predict Satisfaction Score"
   ]
  },
  {
   "cell_type": "code",
   "execution_count": 7,
   "metadata": {},
   "outputs": [
    {
     "name": "stdout",
     "output_type": "stream",
     "text": [
      "Mean Squared Error: 0.1032922626572499\n"
     ]
    }
   ],
   "source": [
    "from sklearn.model_selection import train_test_split\n",
    "from sklearn.linear_model import LinearRegression\n",
    "from sklearn.metrics import mean_squared_error\n",
    "\n",
    "\n",
    "X = df_cleaned[engagement_features + experience_features]\n",
    "y = df_cleaned['Satisfaction Score']\n",
    "\n",
    "\n",
    "X_train, X_test, y_train, y_test = train_test_split(X, y, test_size=0.2, random_state=42)\n",
    "\n",
    "# Build a linear regression model\n",
    "model = LinearRegression()\n",
    "model.fit(X_train, y_train)\n",
    "\n",
    "# Predict on test set\n",
    "y_pred = model.predict(X_test)\n",
    "\n",
    "# Evaluate the model\n",
    "mse = mean_squared_error(y_test, y_pred)\n",
    "print(f\"Mean Squared Error: {mse}\")\n"
   ]
  },
  {
   "cell_type": "markdown",
   "metadata": {},
   "source": [
    "Task 4.4: Perform KMeans Clustering on Engagement and Experience Scores"
   ]
  },
  {
   "cell_type": "code",
   "execution_count": 8,
   "metadata": {},
   "outputs": [],
   "source": [
    "\n",
    "score_features = ['Engagement Score', 'Experience Score']\n",
    "\n",
    "\n",
    "kmeans_scores = KMeans(n_clusters=2, random_state=42)\n",
    "df_cleaned['Satisfaction Cluster'] = kmeans_scores.fit_predict(df_cleaned[score_features])\n",
    "\n",
    "\n",
    "satisfaction_centers = kmeans_scores.cluster_centers_\n"
   ]
  },
  {
   "cell_type": "markdown",
   "metadata": {},
   "source": [
    "Task 4.5: Aggregate Average Satisfaction and Experience Score per Cluster"
   ]
  },
  {
   "cell_type": "code",
   "execution_count": 9,
   "metadata": {},
   "outputs": [
    {
     "name": "stdout",
     "output_type": "stream",
     "text": [
      "                      Satisfaction Score  Experience Score\n",
      "Satisfaction Cluster                                      \n",
      "0                               1.963319          1.372330\n",
      "1                               3.216586          3.963334\n"
     ]
    }
   ],
   "source": [
    "\n",
    "cluster_aggregates = df_cleaned.groupby('Satisfaction Cluster')[['Satisfaction Score', 'Experience Score']].mean()\n",
    "print(cluster_aggregates)\n"
   ]
  },
  {
   "cell_type": "markdown",
   "metadata": {},
   "source": [
    "Task 4.6: Export the Final Table to MySQL"
   ]
  },
  {
   "cell_type": "code",
   "execution_count": 11,
   "metadata": {},
   "outputs": [
    {
     "name": "stdout",
     "output_type": "stream",
     "text": [
      "           IMSI  Engagement Score  Experience Score  Satisfaction Score\n",
      "0  2.082014e+14          1.721667          0.717774            1.219721\n",
      "1  2.082019e+14          1.948190          0.478565            1.213378\n",
      "2  2.082015e+14          2.443460          1.639243            2.041352\n",
      "3  2.082014e+14          1.978330          1.634762            1.806546\n",
      "4  2.082014e+14          1.371709          1.639243            1.505476\n",
      "5  2.082014e+14          2.274655          1.633891            1.954273\n",
      "6  2.082014e+14          2.620807          1.142107            1.881457\n",
      "7  2.082010e+14          2.206911          2.475849            2.341380\n",
      "8  2.082014e+14          1.896991          1.634331            1.765661\n",
      "9  2.082015e+14          1.959248          5.296181            3.627714\n"
     ]
    }
   ],
   "source": [
    "import os\n",
    "import psycopg2\n",
    "import pandas as pd\n",
    "from dotenv import load_dotenv\n",
    "\n",
    "# Connect to the MySQL database\n",
    "connection_string = f\"postgresql+psycopg2://{DB_USER}:{DB_PASSWORD}@{DB_HOST}:{DB_PORT}/{DB_NAME}\"\n",
    "\n",
    "# Export the final table\n",
    "df_cleaned[['IMSI', 'Engagement Score', 'Experience Score', 'Satisfaction Score']].to_sql(name='customer_satisfaction', con=connection_string, if_exists='replace', index=False)\n",
    "\n",
    "# Screenshot of the query output\n",
    "query = \"SELECT * FROM customer_satisfaction LIMIT 10\"\n",
    "final_output = pd.read_sql(query, connection_string)\n",
    "print(final_output)\n"
   ]
  },
  {
   "cell_type": "markdown",
   "metadata": {},
   "source": [
    "Visualization "
   ]
  },
  {
   "cell_type": "code",
   "execution_count": 13,
   "metadata": {},
   "outputs": [
    {
     "data": {
      "image/png": "[encoded data removed]",
      "text/plain": [
       "<Figure size 1000x600 with 1 Axes>"
      ]
     },
     "metadata": {},
     "output_type": "display_data"
    }
   ],
   "source": [
    "import matplotlib.pyplot as plt\n",
    "import seaborn as sns\n",
    "\n",
    "plt.figure(figsize=(10, 6))\n",
    "sns.histplot(df_cleaned['Satisfaction Score'], bins=20, kde=True)\n",
    "plt.title('Distribution of Satisfaction Scores')\n",
    "plt.xlabel('Satisfaction Score')\n",
    "plt.ylabel('Frequency')\n",
    "plt.show()\n"
   ]
  },
  {
   "cell_type": "code",
   "execution_count": 14,
   "metadata": {},
   "outputs": [
    {
     "data": {
      "image/png": "[encoded data removed]",
      "text/plain": [
       "<Figure size 1000x600 with 1 Axes>"
      ]
     },
     "metadata": {},
     "output_type": "display_data"
    }
   ],
   "source": [
    "cluster_aggregates = df_cleaned.groupby('Satisfaction Cluster')['Satisfaction Score'].mean().reset_index()\n",
    "\n",
    "plt.figure(figsize=(10, 6))\n",
    "sns.barplot(x='Satisfaction Cluster', y='Satisfaction Score', data=cluster_aggregates)\n",
    "plt.title('Average Satisfaction Score by Cluster')\n",
    "plt.xlabel('Satisfaction Cluster')\n",
    "plt.ylabel('Average Satisfaction Score')\n",
    "plt.tight_layout()\n",
    "plt.show()\n"
   ]
  },
  {
   "cell_type": "code",
   "execution_count": null,
   "metadata": {},
   "outputs": [],
   "source": []
  }
 ],
 "metadata": {
  "kernelspec": {
   "display_name": "venv",
   "language": "python",
   "name": "python3"
  },
  "language_info": {
   "codemirror_mode": {
    "name": "ipython",
    "version": 3
   },
   "file_extension": ".py",
   "mimetype": "text/x-python",
   "name": "python",
   "nbconvert_exporter": "python",
   "pygments_lexer": "ipython3",
   "version": "3.11.2"
  }
 },
 "nbformat": 4,
 "nbformat_minor": 2
}
